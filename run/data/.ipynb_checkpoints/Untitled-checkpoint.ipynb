{
 "cells": [
  {
   "cell_type": "code",
   "execution_count": 2,
   "metadata": {},
   "outputs": [
    {
     "name": "stdout",
     "output_type": "stream",
     "text": [
      "Welcome to JupyROOT 6.12/06\n"
     ]
    }
   ],
   "source": [
    "import ROOT as r"
   ]
  },
  {
   "cell_type": "code",
   "execution_count": 86,
   "metadata": {},
   "outputs": [
    {
     "name": "stderr",
     "output_type": "stream",
     "text": [
      "Warning in <TCanvas::Constructor>: Deleting canvas with same name: c\n"
     ]
    }
   ],
   "source": [
    "c = r.TCanvas('c','c',1000,600)\n",
    "file = r.TFile('musr_101.root')\n",
    "tree = file.Get('t1')"
   ]
  },
  {
   "cell_type": "code",
   "execution_count": 89,
   "metadata": {},
   "outputs": [],
   "source": [
    "#tree.Draw('muM0PolY:muM0PolX>>h2(100,-1,1,100,-1.01,-0.99)')\n",
    "cut = r.TCut(\"sqrt(posIniMomX*posIniMomX+posIniMomY*posIniMomY+posIniMomZ*posIniMomZ)>30\")\n",
    "tree.Draw('atan2(save_poly,save_polx):save_time>>h2(1000,0,10,100,-3,3)')\n",
    "tree.Draw('posIniMomX>>h3')\n",
    "hist2d = r.gDirectory.Get('h2')\n",
    "hist2d.SetMarkerStyle(20)\n",
    "hist2d.SetMarkerSize(0.3)\n",
    "hist2d.GetXaxis().SetTitle('time [\\mu s]')\n",
    "hist2d.GetYaxis().SetTitle('\\phi_{spin-momentum}')"
   ]
  },
  {
   "cell_type": "code",
   "execution_count": null,
   "metadata": {},
   "outputs": [],
   "source": [
    "#hist.Draw(\"colz\")\n",
    "hist2d.Draw(\"scat\")\n",
    "c.SetLogy(0)\n",
    "cos_fit = r.TF1(\"cos_fit\",\"[0]+[1]*cos([2]*x+[3])+[4]*cos([5]*x+[6])\",0.1,10)\n",
    "cos_fit.SetNpx(10000)\n",
    "cos_fit.SetParameters(1.5,0.2,50,1.5,0.2,0.5,1.5)\n",
    "cos_fit.SetParNames(\"p_{0}\",\"A_{fast}\",\"\\omega_{fast}\",\"\\phi_{fast}\",\"A_{slow}\",\"\\omega_{slow}\",\"\\phi_{slow}\")\n",
    "hist2d.Fit(\"cos_fit\",\"REM\")\n",
    "r.gStyle.SetOptStat(0)\n",
    "r.gStyle.SetOptFit(1111)\n",
    "stats = c.GetPrimitive(\"stats\")\n",
    "stats.SetName(\"h2stats\")\n",
    "stats.SetX1NDC(0.6)\n",
    "stats.SetX2NDC(0.9)\n",
    "stats.SetY1NDC(0.5)\n",
    "stats.SetY2NDC(0.9)\n",
    "c.Draw()"
   ]
  },
  {
   "cell_type": "code",
   "execution_count": null,
   "metadata": {},
   "outputs": [],
   "source": []
  },
  {
   "cell_type": "code",
   "execution_count": null,
   "metadata": {},
   "outputs": [],
   "source": []
  }
 ],
 "metadata": {
  "kernelspec": {
   "display_name": "Python 3",
   "language": "python",
   "name": "python3"
  },
  "language_info": {
   "codemirror_mode": {
    "name": "ipython",
    "version": 3
   },
   "file_extension": ".py",
   "mimetype": "text/x-python",
   "name": "python",
   "nbconvert_exporter": "python",
   "pygments_lexer": "ipython3",
   "version": "3.6.5"
  }
 },
 "nbformat": 4,
 "nbformat_minor": 2
}
